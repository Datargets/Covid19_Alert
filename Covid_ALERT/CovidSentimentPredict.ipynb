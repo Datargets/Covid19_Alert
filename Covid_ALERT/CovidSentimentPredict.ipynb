{
 "cells": [
  {
   "cell_type": "code",
   "execution_count": 1,
   "id": "1fc3bac5-16ee-48be-8864-f0c891b52cfc",
   "metadata": {
    "id": "1fc3bac5-16ee-48be-8864-f0c891b52cfc",
    "tags": []
   },
   "outputs": [
    {
     "name": "stderr",
     "output_type": "stream",
     "text": [
      "/home/sara/.local/lib/python3.10/site-packages/matplotlib/projections/__init__.py:63: UserWarning: Unable to import Axes3D. This may be due to multiple versions of Matplotlib being installed (e.g. as a system package and as a pip package). As a result, the 3D projection is not available.\n",
      "  warnings.warn(\"Unable to import Axes3D. This may be due to multiple versions of \"\n"
     ]
    }
   ],
   "source": [
    "import numpy as np\n",
    "import pandas as pd\n",
    "import itertools\n",
    "from pyspark.sql import SparkSession\n",
    "from pyspark.ml import PipelineModel\n",
    "import pyspark.sql.functions as F\n",
    "from pyspark.ml import Pipeline\n",
    "from pyspark.sql.window import Window\n",
    "import matplotlib.pyplot as plt\n",
    "import os\n",
    "from pyspark.sql.functions import split\n",
    "from pyspark.sql.functions import col, udf\n",
    "from pyspark.sql.types import StringType\n",
    "from pyspark.sql.types import ArrayType, StringType\n",
    "from pyspark.ml.feature import StopWordsRemover\n",
    "from pyspark.ml.feature import Tokenizer\n",
    "from pyspark.ml.feature import HashingTF, IDF\n",
    "from pyspark.ml import Pipeline\n",
    "from pyspark.ml.classification import LogisticRegression,GBTClassifier,RandomForestClassifier\n",
    "from pyspark.ml.evaluation import BinaryClassificationEvaluator\n",
    "from pyspark.ml import PipelineModel\n",
    "from pyspark.sql.functions import expr\n",
    "from pyspark.sql.types import StringType, StructType, StructField\n",
    "import warnings\n",
    "import os\n",
    "from pyspark.sql import SparkSession\n",
    "\n",
    "warnings.filterwarnings(\"ignore\")\n",
    "\n",
    "os.environ[\"PYSPARK_DRIVER_PYTHON_OPTS\"] = \"notebook\"\n",
    "import logging\n",
    "logger = logging.getLogger(\"py4j\")\n",
    "logger.setLevel(logging.ERROR)"
   ]
  },
  {
   "cell_type": "code",
   "execution_count": 2,
   "id": "0227a4d0-0661-475c-9334-33b8ebd65974",
   "metadata": {
    "id": "0227a4d0-0661-475c-9334-33b8ebd65974",
    "tags": []
   },
   "outputs": [
    {
     "name": "stderr",
     "output_type": "stream",
     "text": [
      "25/04/26 11:56:39 WARN Utils: Your hostname, sara-HP-1000-Notebook-PC resolves to a loopback address: 127.0.1.1; using 192.168.100.9 instead (on interface wlx1cbfce721ac6)\n",
      "25/04/26 11:56:39 WARN Utils: Set SPARK_LOCAL_IP if you need to bind to another address\n",
      "Setting default log level to \"WARN\".\n",
      "To adjust logging level use sc.setLogLevel(newLevel). For SparkR, use setLogLevel(newLevel).\n",
      "25/04/26 11:56:47 WARN NativeCodeLoader: Unable to load native-hadoop library for your platform... using builtin-java classes where applicable\n"
     ]
    }
   ],
   "source": [
    "spark = SparkSession.builder.appName(\"Covid19\").getOrCreate()\n",
    "spark.sparkContext.setLogLevel(\"ERROR\")"
   ]
  },
  {
   "cell_type": "code",
   "execution_count": 3,
   "id": "3b18275b-6953-41d6-8c33-4785ee6350e3",
   "metadata": {
    "id": "3b18275b-6953-41d6-8c33-4785ee6350e3",
    "tags": []
   },
   "outputs": [
    {
     "name": "stdout",
     "output_type": "stream",
     "text": [
      "                  id  created_at  \\\n",
      "34549   1.260000e+18  2020-05-01   \n",
      "123901  1.270000e+18  2020-05-27   \n",
      "43735   1.260000e+18  2020-05-04   \n",
      "16386   1.250000e+18  2020-04-26   \n",
      "26236   1.260000e+18  2020-04-29   \n",
      "\n",
      "                                                   source  \\\n",
      "34549   <a href=\"https://mobile.twitter.com\" rel=\"nofo...   \n",
      "123901  <a href=\"https://mobile.twitter.com\" rel=\"nofo...   \n",
      "43735   <a href=\"https://mobile.twitter.com\" rel=\"nofo...   \n",
      "16386   <a href=\"http://twitter.com/download/android\" ...   \n",
      "26236   <a href=\"http://twitter.com/download/android\" ...   \n",
      "\n",
      "                                            original_text lang  \\\n",
      "34549   RT @GovInslee: WATCH: I’m giving an update on ...   en   \n",
      "123901  RT @SBACommunities: @MayorJValdivia rolled out...   en   \n",
      "43735   RT @GeminiFabricsng: ANKARA AND CHIFFON COMBO....   en   \n",
      "16386   RT @Bikram_4142: #FightAgainstCorona\\n#DeraSac...   en   \n",
      "26236   RT @NelsonChurchil3: @EssexPR @RedsTheBest23 I...   en   \n",
      "\n",
      "        favorite_count  retweet_count  original_author  \\\n",
      "34549              0.0            0.0  WAStateCommerce   \n",
      "123901             0.0           24.0  BobbyCastillo42   \n",
      "43735              0.0        37990.0       FarmDelite   \n",
      "16386              0.0            0.0   MandeepInsan81   \n",
      "26236              0.0            8.0    RedsTheBest23   \n",
      "\n",
      "                                  hashtags  \\\n",
      "34549                                  NaN   \n",
      "123901                                 NaN   \n",
      "43735                                  NaN   \n",
      "16386   FightAgainstCorona, DeraSachaSauda   \n",
      "26236                                  NaN   \n",
      "\n",
      "                                            user_mentions  \\\n",
      "34549                             GovInslee, WADeptHealth   \n",
      "123901  SBACommunities, MayorJValdivia, amazon, SBDAir...   \n",
      "43735                                     GeminiFabricsng   \n",
      "16386                                         Bikram_4142   \n",
      "26236             NelsonChurchil3, EssexPR, RedsTheBest23   \n",
      "\n",
      "                      place  \\\n",
      "34549           Olympia, WA   \n",
      "123901  Banning, California   \n",
      "43735        Lagos, Nigeria   \n",
      "16386                   NaN   \n",
      "26236                   NaN   \n",
      "\n",
      "                                              clean_tweet  compound    neg  \\\n",
      "34549   watch give updat covid19 respons pm join secre...    0.2960  0.000   \n",
      "123901       roll red carpet ignor local amazon worker go    0.1779  0.000   \n",
      "43735   ankara chiffon combo avail variou colour patte...    0.0000  0.000   \n",
      "16386                                       fight covid19   -0.3818  0.722   \n",
      "26236   know uk one thing sure death germani bbc wonde...   -0.3818  0.275   \n",
      "\n",
      "          neu    pos sentiment  \n",
      "34549   0.804  0.196       pos  \n",
      "123901  0.805  0.195       pos  \n",
      "43735   1.000  0.000       neu  \n",
      "16386   0.278  0.000       neg  \n",
      "26236   0.563  0.162       neg  \n"
     ]
    }
   ],
   "source": [
    "import pandas as pd\n",
    "\n",
    "df = pd.read_csv('Covid-19(Apr-Jun 2020).csv')\n",
    "\n",
    "df_sample = df.sample(n=35000, random_state=42)  \n",
    "\n",
    "print(df_sample.head())\n",
    "\n",
    "df_sample.to_csv('Covid19_sampled_35000.csv', index=False)\n"
   ]
  },
  {
   "cell_type": "code",
   "execution_count": 4,
   "id": "48a6202b-92be-4dcd-8c04-1c5bc029de27",
   "metadata": {
    "tags": []
   },
   "outputs": [
    {
     "name": "stdout",
     "output_type": "stream",
     "text": [
      "                                          clean_text sentiment\n",
      "0  watch giving update covid19 response 230 ill j...       pos\n",
      "1  rolled red carpet ignoring local amazon worker...       pos\n",
      "2  ankara chiffon combo available various colours...       neu\n",
      "3                                      fight covid19       neg\n",
      "4  dont know one thing sure deaths germany bbcs w...       neg\n"
     ]
    }
   ],
   "source": [
    "import pandas as pd\n",
    "import re\n",
    "from nltk.corpus import stopwords\n",
    "from nltk.tokenize import word_tokenize\n",
    "\n",
    "def clean_tweets(df):\n",
    "    df = df.dropna(subset=['original_text', 'sentiment'])\n",
    "    df = df.drop_duplicates(subset=['original_text'])\n",
    "    \n",
    "    stop_words = set(stopwords.words('english'))\n",
    "    \n",
    "    def preprocess_text(text):\n",
    "        text = text.lower()  # Convert to lowercase\n",
    "        text = re.sub(r'\\brt\\b', '', text)  # Remove 'rt' (retweet)\n",
    "        text = re.sub(r'http\\S+|www\\S+', '', text)  # Remove URLs\n",
    "        text = re.sub(r'@\\w+', '', text)  # Remove @mentions\n",
    "        text = re.sub(r'#\\w+', '', text)  # Remove hashtags\n",
    "        text = re.sub(r'[^a-zA-Z0-9\\s]', '', text)  # Remove special characters\n",
    "        text = re.sub(r'\\s+', ' ', text).strip()  # Remove extra spaces\n",
    "        \n",
    "        # Tokenize the text and remove stopwords\n",
    "        words = word_tokenize(text)\n",
    "        words = [word for word in words if word not in stop_words and len(word) > 2]  # Remove stopwords and short words\n",
    "        return ' '.join(words)\n",
    "\n",
    "    df['clean_text'] = df['original_text'].apply(preprocess_text)\n",
    "\n",
    "    return df[['clean_text', 'sentiment']]\n",
    "\n",
    "# Assuming 'df' is your DataFrame\n",
    "df = pd.read_csv('Covid19_sampled_35000.csv')\n",
    "cleaned_df = clean_tweets(df)\n",
    "\n",
    "# cleaned_df.to_csv('Cleaned_Tweets.csv', index=False)\n",
    "\n",
    "print(cleaned_df.head())\n"
   ]
  },
  {
   "cell_type": "code",
   "execution_count": 5,
   "id": "15dca327-41b2-477a-b775-5e2dbec5c1f5",
   "metadata": {
    "tags": []
   },
   "outputs": [
    {
     "data": {
      "text/plain": [
       "sentiment\n",
       "neu    13861\n",
       "pos    11343\n",
       "neg     9795\n",
       "Name: count, dtype: int64"
      ]
     },
     "execution_count": 5,
     "metadata": {},
     "output_type": "execute_result"
    }
   ],
   "source": [
    "cleaned_df['sentiment'].value_counts()"
   ]
  },
  {
   "cell_type": "code",
   "execution_count": 6,
   "id": "2fdef148-459c-4be2-8557-04ba4851f93f",
   "metadata": {
    "tags": []
   },
   "outputs": [],
   "source": [
    "df = spark.createDataFrame(cleaned_df)\n"
   ]
  },
  {
   "cell_type": "code",
   "execution_count": 7,
   "id": "CGDZU0o6omBy",
   "metadata": {
    "colab": {
     "base_uri": "https://localhost:8080/"
    },
    "id": "CGDZU0o6omBy",
    "outputId": "10653944-e428-4c67-bea8-f2507e69d54a",
    "tags": []
   },
   "outputs": [
    {
     "name": "stderr",
     "output_type": "stream",
     "text": [
      "                                                                                \r"
     ]
    },
    {
     "name": "stdout",
     "output_type": "stream",
     "text": [
      "There are 29898 rows in the training set, and 5101 in the test set\n"
     ]
    },
    {
     "name": "stderr",
     "output_type": "stream",
     "text": [
      "                                                                                \r"
     ]
    }
   ],
   "source": [
    "trainDF, testDF = df.randomSplit([.85, .15], seed=42)\n",
    "print(f\"\"\"There are {trainDF.count()} rows in the training set, and {testDF.count()} in the test set\"\"\")"
   ]
  },
  {
   "cell_type": "code",
   "execution_count": 8,
   "id": "6d81a1ef-8893-4f78-980e-169694d82c97",
   "metadata": {
    "tags": []
   },
   "outputs": [
    {
     "name": "stderr",
     "output_type": "stream",
     "text": [
      "                                                                                \r"
     ]
    },
    {
     "name": "stdout",
     "output_type": "stream",
     "text": [
      "+----------+---------+---------------+\n",
      "|clean_text|sentiment|sentiment_index|\n",
      "+----------+---------+---------------+\n",
      "|          |      neu|            0.0|\n",
      "|          |      neu|            0.0|\n",
      "|          |      neu|            0.0|\n",
      "|          |      neu|            0.0|\n",
      "|          |      neu|            0.0|\n",
      "+----------+---------+---------------+\n",
      "only showing top 5 rows\n",
      "\n",
      "+--------------------+---------+---------------+\n",
      "|          clean_text|sentiment|sentiment_index|\n",
      "+--------------------+---------+---------------+\n",
      "|                    |      neu|            0.0|\n",
      "|                    |      neu|            0.0|\n",
      "|0900 2742020 leas...|      neg|            2.0|\n",
      "|1000s reasonable ...|      pos|            1.0|\n",
      "|112 day covid19 s...|      neu|            0.0|\n",
      "+--------------------+---------+---------------+\n",
      "only showing top 5 rows\n",
      "\n"
     ]
    }
   ],
   "source": [
    "from pyspark.sql import SparkSession\n",
    "from pyspark.ml.feature import StringIndexer\n",
    "\n",
    "indexer = StringIndexer(inputCol=\"sentiment\", outputCol=\"sentiment_index\")\n",
    "indexer_model = indexer.fit(trainDF)\n",
    "\n",
    "trainDF = indexer_model.transform(trainDF)\n",
    "testDF = indexer_model.transform(testDF)\n",
    "\n",
    "trainDF.show(5)\n",
    "testDF.show(5)"
   ]
  },
  {
   "cell_type": "code",
   "execution_count": 13,
   "id": "aea19b7e-fc88-4dd2-a401-9abcb8fab309",
   "metadata": {
    "tags": []
   },
   "outputs": [],
   "source": [
    "import os\n",
    "import pandas as pd\n",
    "import matplotlib.pyplot as plt\n",
    "import numpy as np\n",
    "from pyspark.ml import Pipeline\n",
    "from pyspark.ml.feature import Tokenizer, CountVectorizer\n",
    "from pyspark.ml.classification import LogisticRegression, RandomForestClassifier, DecisionTreeClassifier\n",
    "from pyspark.ml.evaluation import MulticlassClassificationEvaluator, BinaryClassificationEvaluator\n",
    "from sklearn.metrics import confusion_matrix, ConfusionMatrixDisplay, roc_curve, auc, precision_score, classification_report\n",
    "from sklearn.preprocessing import label_binarize\n",
    "\n",
    "from pyspark.sql import functions as F\n",
    "\n",
    "def FinalModell(model_classes_and_names, trainDF, testDF):\n",
    "    tokenizer = Tokenizer(inputCol=\"clean_text\", outputCol=\"words\")\n",
    "    countVectorizer = CountVectorizer(inputCol=\"words\", outputCol=\"features\")\n",
    "\n",
    "    # Create a mapping for sentiment index to sentiment label\n",
    "    sentiment_map = {0: 'negative', 1: 'neutral', 2: 'positive'}\n",
    "\n",
    "    results = []\n",
    "\n",
    "    for model_class, model_name in model_classes_and_names:\n",
    "        print(f\"Training Model: {model_name}\")\n",
    "        \n",
    "        if model_name.lower() == \"logisticregression\":\n",
    "            classifier = model_class(featuresCol=\"features\", labelCol=\"sentiment_index\", regParam=0.55, elasticNetParam=0.01)\n",
    "        elif model_name.lower() == \"randomforestclassifier\":\n",
    "            classifier = model_class(\n",
    "                featuresCol=\"features\", \n",
    "                labelCol=\"sentiment_index\", \n",
    "                numTrees=100,\n",
    "                maxDepth=10,\n",
    "                impurity='gini',\n",
    "                featureSubsetStrategy='auto',\n",
    "                seed=42\n",
    "            )\n",
    "        else:\n",
    "            classifier = model_class(featuresCol=\"features\", labelCol=\"sentiment_index\")\n",
    "        \n",
    "        pipeline = Pipeline(stages=[tokenizer, countVectorizer, classifier])\n",
    "        pipeline_model = pipeline.fit(trainDF)\n",
    "\n",
    "        # Train Performance\n",
    "        train_predictions = pipeline_model.transform(trainDF)\n",
    "        train_evaluator = MulticlassClassificationEvaluator(labelCol=\"sentiment_index\", metricName=\"accuracy\")\n",
    "        train_accuracy = train_evaluator.evaluate(train_predictions)\n",
    "\n",
    "        # Test Performance\n",
    "        test_predictions = pipeline_model.transform(testDF)\n",
    "        test_evaluator = MulticlassClassificationEvaluator(labelCol=\"sentiment_index\", metricName=\"accuracy\")\n",
    "        test_accuracy = test_evaluator.evaluate(test_predictions)\n",
    "\n",
    "        f1_evaluator = MulticlassClassificationEvaluator(labelCol=\"sentiment_index\", metricName=\"f1\")\n",
    "        train_f1 = f1_evaluator.evaluate(train_predictions)\n",
    "        test_f1 = f1_evaluator.evaluate(test_predictions)\n",
    "\n",
    "        recall_evaluator = MulticlassClassificationEvaluator(labelCol=\"sentiment_index\", metricName=\"weightedRecall\")\n",
    "        train_recall = recall_evaluator.evaluate(train_predictions)\n",
    "        test_recall = recall_evaluator.evaluate(test_predictions)\n",
    "\n",
    "        precision_evaluator = MulticlassClassificationEvaluator(labelCol=\"sentiment_index\", metricName=\"weightedPrecision\")\n",
    "        train_precision = precision_evaluator.evaluate(train_predictions)\n",
    "        test_precision = precision_evaluator.evaluate(test_predictions)\n",
    "\n",
    "        print(f\"{model_name} -> Train Acc: {train_accuracy}, Test Acc: {test_accuracy}\")\n",
    "        print(f\"{model_name} -> Train F1: {train_f1}, Test F1: {test_f1}\")\n",
    "        print(f\"{model_name} -> Train Recall: {train_recall}, Test Recall: {test_recall}\")\n",
    "        print(f\"{model_name} -> Train Precision: {train_precision}, Test Precision: {test_precision}\")\n",
    "\n",
    "        # Map sentiment index to sentiment label using F.when()\n",
    "        test_predictions = test_predictions.withColumn(\n",
    "            \"sentiment_label\", \n",
    "            F.when(F.col('sentiment_index') == 0, 'negative')\n",
    "             .when(F.col('sentiment_index') == 1, 'neutral')\n",
    "             .when(F.col('sentiment_index') == 2, 'positive')\n",
    "             .otherwise('Unknown')\n",
    "        )\n",
    "\n",
    "        # Confusion Matrix Plotting\n",
    "        y_true = test_predictions.select('sentiment_index').toPandas().values.ravel()\n",
    "        y_pred = test_predictions.select('prediction').toPandas().values.ravel()\n",
    "\n",
    "        cm = confusion_matrix(y_true, y_pred)\n",
    "        disp = ConfusionMatrixDisplay(confusion_matrix=cm)\n",
    "        disp.plot(cmap=plt.cm.Blues)\n",
    "        plt.title(f'Confusion Matrix: {model_name}')\n",
    "        plt.show()\n",
    "\n",
    "        # Classification Report\n",
    "        print(f\"Classification Report for {model_name}:\")\n",
    "        print(classification_report(y_true, y_pred, target_names=['negative', 'neutral', 'positive']))\n",
    "\n",
    "        results.append({\n",
    "            'Model': model_name,\n",
    "            'Train Accuracy': train_accuracy,\n",
    "            'Test Accuracy': test_accuracy,\n",
    "            'Train F1': train_f1,\n",
    "            'Test F1': test_f1,\n",
    "            'Train Recall': train_recall,\n",
    "            'Test Recall': test_recall,\n",
    "            'Train Precision': train_precision,\n",
    "            'Test Precision': test_precision,\n",
    "        })\n",
    "\n",
    "        custom_model_directory = \"/home/sara/Desktop/Covid19/covidfinal/spark_models\"\n",
    "        directory_path = os.path.join(custom_model_directory, model_name)\n",
    "        if not os.path.exists(directory_path):\n",
    "            os.makedirs(directory_path, exist_ok=True)\n",
    "\n",
    "        try:\n",
    "            pipeline_model.write().overwrite().save(directory_path)\n",
    "            print(f'Model {model_name} saved successfully')\n",
    "        except Exception as e:\n",
    "            print(f'Error while saving the model: {str(e)}')\n",
    "\n",
    "    results_df = pd.DataFrame(results)\n",
    "    return results_df\n",
    "\n"
   ]
  },
  {
   "cell_type": "code",
   "execution_count": 10,
   "id": "HHEXOt_SO4E4",
   "metadata": {
    "colab": {
     "base_uri": "https://localhost:8080/",
     "height": 833
    },
    "id": "HHEXOt_SO4E4",
    "outputId": "40fe2e69-2d3d-432d-d08b-af621e67872e",
    "tags": []
   },
   "outputs": [
    {
     "name": "stdout",
     "output_type": "stream",
     "text": [
      "Training Model: LogisticRegression\n"
     ]
    },
    {
     "name": "stderr",
     "output_type": "stream",
     "text": [
      "                                                                                \r"
     ]
    },
    {
     "name": "stdout",
     "output_type": "stream",
     "text": [
      "LogisticRegression -> Train Acc: 0.8267777108836711, Test Acc: 0.8168986473240542\n",
      "LogisticRegression -> Train F1: 0.823881303675293, Test F1: 0.8138348225875812\n",
      "LogisticRegression -> Train Recall: 0.8267777108836711, Test Recall: 0.816898647324054\n",
      "LogisticRegression -> Train Precision: 0.8610912799161194, Test Precision: 0.855312723998569\n"
     ]
    },
    {
     "name": "stderr",
     "output_type": "stream",
     "text": [
      "                                                                                \r"
     ]
    },
    {
     "data": {
      "image/png": "[encoded data removed]",
      "text/plain": [
       "<Figure size 640x480 with 2 Axes>"
      ]
     },
     "metadata": {},
     "output_type": "display_data"
    },
    {
     "name": "stdout",
     "output_type": "stream",
     "text": [
      "Classification Report for LogisticRegression:\n",
      "              precision    recall  f1-score   support\n",
      "\n",
      "    negative       0.71      0.99      0.83      2032\n",
      "     neutral       0.93      0.76      0.84      1613\n",
      "    positive       0.97      0.63      0.76      1456\n",
      "\n",
      "    accuracy                           0.82      5101\n",
      "   macro avg       0.87      0.80      0.81      5101\n",
      "weighted avg       0.86      0.82      0.81      5101\n",
      "\n"
     ]
    },
    {
     "name": "stderr",
     "output_type": "stream",
     "text": [
      "                                                                                \r"
     ]
    },
    {
     "name": "stdout",
     "output_type": "stream",
     "text": [
      "Model LogisticRegression saved successfully\n",
      "                Model  Train Accuracy  Test Accuracy  Train F1   Test F1  \\\n",
      "0  LogisticRegression        0.826778       0.816899  0.823881  0.813835   \n",
      "\n",
      "   Train Recall  Test Recall  Train Precision  Test Precision  \n",
      "0      0.826778     0.816899         0.861091        0.855313  \n"
     ]
    }
   ],
   "source": [
    "model_list = [\n",
    "    (LogisticRegression, \"LogisticRegression\"),\n",
    "   \n",
    "]\n",
    "\n",
    "\n",
    "results_df = FinalModell(model_list, trainDF, testDF)\n",
    "\n",
    "print(results_df)\n"
   ]
  },
  {
   "cell_type": "code",
   "execution_count": null,
   "id": "9a996aa9-fd50-465d-ac8f-3b3949f91b0f",
   "metadata": {},
   "outputs": [],
   "source": []
  }
 ],
 "metadata": {
  "accelerator": "GPU",
  "colab": {
   "gpuType": "T4",
   "provenance": []
  },
  "kernelspec": {
   "display_name": "Python 3 (ipykernel)",
   "language": "python",
   "name": "python3"
  },
  "language_info": {
   "codemirror_mode": {
    "name": "ipython",
    "version": 3
   },
   "file_extension": ".py",
   "mimetype": "text/x-python",
   "name": "python",
   "nbconvert_exporter": "python",
   "pygments_lexer": "ipython3",
   "version": "3.10.12"
  }
 },
 "nbformat": 4,
 "nbformat_minor": 5
}
